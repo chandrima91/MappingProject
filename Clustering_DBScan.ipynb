{
 "cells": [
  {
   "cell_type": "code",
   "execution_count": null,
   "id": "b90a21e7",
   "metadata": {},
   "outputs": [],
   "source": [
    "import osmnx as ox\n",
    "from osmnx import geometries as geom\n",
    "import networkx as nx\n",
    "import numpy as np\n",
    "import pandas as pd\n",
    "import geopandas \n",
    "from geopandas import GeoDataFrame \n",
    "import time\n",
    "import matplotlib.pyplot as plt\n",
    "from scipy.sparse import csr_matrix\n",
    "from scipy.spatial.distance import squareform, pdist\n",
    "from sklearn.cluster import DBSCAN\n",
    "\n",
    "ox.config(use_cache=True, log_console=True)"
   ]
  },
  {
   "cell_type": "code",
   "execution_count": null,
   "id": "4becfb89",
   "metadata": {},
   "outputs": [],
   "source": [
    "# parameterize DBSCAN\n",
    "eps = 300 #meters\n",
    "minpts = 10 #smallest cluster size allowed\n",
    "pseudo_minpts = 1 #we're clustering nodes, not firms, so throw nothing away as noise: a single node might be alone,\n",
    "                  #but may contain a hundred points as they're nearest node.\n",
    "\n",
    "place = 'Amsterdam, Netherlands'"
   ]
  },
  {
   "cell_type": "code",
   "execution_count": null,
   "id": "e41d61b2",
   "metadata": {},
   "outputs": [],
   "source": [
    "# get the street network\n",
    "G = ox.graph_from_place(place, network_type='drive')\n",
    "ox.plot_graph(G)\n"
   ]
  },
  {
   "cell_type": "code",
   "execution_count": null,
   "id": "a83ab41f",
   "metadata": {},
   "outputs": [],
   "source": [
    "print(len(G.nodes))\n",
    "print(len(G.edges))"
   ]
  },
  {
   "cell_type": "code",
   "execution_count": null,
   "id": "da5a87d0",
   "metadata": {},
   "outputs": [],
   "source": [
    "#add edge travel times\n",
    "\n",
    "G = ox.speed.add_edge_speeds(G)\n",
    "G = ox.speed.add_edge_travel_times(G)\n"
   ]
  },
  {
   "cell_type": "code",
   "execution_count": null,
   "id": "d5bc7617",
   "metadata": {},
   "outputs": [],
   "source": [
    "#find the bars in the place\n",
    "\n",
    "tags = {\"amenity\": \"bar\"}\n",
    "bars = ox.geometries_from_place(place, tags)"
   ]
  },
  {
   "cell_type": "code",
   "execution_count": null,
   "id": "7174e30c",
   "metadata": {},
   "outputs": [],
   "source": [
    "# view just the bars\n",
    "bars=bars.dropna(subset = ['name'])"
   ]
  },
  {
   "cell_type": "code",
   "execution_count": null,
   "id": "194bad9b",
   "metadata": {},
   "outputs": [],
   "source": [
    "#create a new dataset called plot_bars for extracting the latitude and longitude from the polygon object in the geometry column of bars dataset\n",
    "plot_bars =geopandas.GeoDataFrame([bars['name'],bars['geometry']])\n",
    "plot_bars = geopandas.GeoDataFrame.transpose(plot_bars)"
   ]
  },
  {
   "cell_type": "code",
   "execution_count": null,
   "id": "879cae06",
   "metadata": {},
   "outputs": [],
   "source": [
    "#convert geometry object to new coordinate reference system(crs)\n",
    "plot_bars.crs = \"EPSG:7415\"\n",
    "bars_test = plot_bars.to_crs(7415)"
   ]
  },
  {
   "cell_type": "code",
   "execution_count": null,
   "id": "ef209034",
   "metadata": {},
   "outputs": [],
   "source": [
    "#extract latitude\n",
    "lat=pd.DataFrame(bars_test.centroid.x)"
   ]
  },
  {
   "cell_type": "code",
   "execution_count": null,
   "id": "f0175d1f",
   "metadata": {},
   "outputs": [],
   "source": [
    "#extract longitude\n",
    "long=pd.DataFrame(bars_test.centroid.y)"
   ]
  },
  {
   "cell_type": "code",
   "execution_count": null,
   "id": "4c78580d",
   "metadata": {},
   "outputs": [],
   "source": [
    "#store osmnid in a new dataframe for use if needed\n",
    "index_df = pd.DataFrame(index = long.index)"
   ]
  },
  {
   "cell_type": "code",
   "execution_count": null,
   "id": "830e9560",
   "metadata": {},
   "outputs": [],
   "source": [
    "#Drop osmnid from latitude(lat) and longitude(long) dataframes\n",
    "\n",
    "lat.reset_index(drop=True, inplace=True)\n",
    "long.reset_index(drop=True, inplace=True)"
   ]
  },
  {
   "cell_type": "code",
   "execution_count": null,
   "id": "60314560",
   "metadata": {},
   "outputs": [],
   "source": [
    "#concatenate latitude and longitude to get coordinates of bars in new dataframe\n",
    "latlong=pd.concat([lat,long],axis=1)"
   ]
  },
  {
   "cell_type": "code",
   "execution_count": null,
   "id": "8e0f1f05",
   "metadata": {},
   "outputs": [],
   "source": [
    "#add column names to coordinates\n",
    "latlong.columns=['Latitude','Longitude']"
   ]
  },
  {
   "cell_type": "code",
   "execution_count": null,
   "id": "37da3c34",
   "metadata": {},
   "outputs": [],
   "source": [
    "# plot the bars and the points around which they cluster\n",
    "fig, ax = ox.plot_graph(G, node_color='#aaaa',bgcolor='white' ,node_size=0, show=False, close=True)\n",
    "ax.scatter(x=latlong['Latitude'], y=latlong['Longitude'], c='k', marker='.', s=50, zorder=3)\n",
    "fig.canvas.draw()\n",
    "fig"
   ]
  },
  {
   "cell_type": "code",
   "execution_count": null,
   "id": "90f9e19b",
   "metadata": {},
   "outputs": [],
   "source": [
    "%%time\n",
    "# compute DBSCAN using straight-line haversine distances\n",
    "eps_rad = eps / 3671000. #meters to radians\n",
    "db = DBSCAN(eps=eps_rad, min_samples=minpts, metric='haversine', algorithm='ball_tree')\n",
    "latlong['spatial_cluster'] = db.fit_predict(np.deg2rad([['Longitude', 'Latitude']]))"
   ]
  },
  {
   "cell_type": "code",
   "execution_count": null,
   "id": "ed3d2f53",
   "metadata": {},
   "outputs": [],
   "source": [
    "len(latlong['spatial_cluster'].unique())"
   ]
  },
  {
   "cell_type": "code",
   "execution_count": null,
   "id": "338403df",
   "metadata": {},
   "outputs": [],
   "source": [
    "# plot bars by cluster\n",
    "color_map = {-1:'blue', 0:'g', 1:'r', 2:'m', 3:'b'}\n",
    "point_colors = [color_map[c] for c in latlong['spatial_cluster']]\n",
    "fig, ax = ox.plot_graph(G, bgcolor='white' ,node_size=0, show=False, close=True)\n",
    "ax.scatter(x=latlong['Latitude'], y=latlong['Longitude'], c=point_colors, marker='.', s=50, zorder=3)\n",
    "fig.canvas.draw()\n",
    "fig"
   ]
  },
  {
   "cell_type": "code",
   "execution_count": null,
   "id": "ee41ead4",
   "metadata": {},
   "outputs": [],
   "source": [
    "# attach nearest network node to each firm\n",
    "latlong['nn'] = ox.nearest_nodes(G, X=latlong['Latitude'], Y=latlong['Longitude'])\n",
    "print(len(latlong['nn']))\n",
    "\n",
    "# we'll get distances for each pair of nodes that have bars attached to them\n",
    "nodes_unique = pd.Series(latlong['nn'].unique())\n",
    "nodes_unique.index = nodes_unique.values\n",
    "print(len(nodes_unique))\n",
    "\n",
    "# convert MultiDiGraph to DiGraph for simpler faster distance matrix computation\n",
    "G_dm = nx.DiGraph(G)"
   ]
  },
  {
   "cell_type": "code",
   "execution_count": null,
   "id": "edc8f42b",
   "metadata": {},
   "outputs": [],
   "source": [
    "# calculate network-based distance between each node\n",
    "def network_distance_matrix(u, G, vs=nodes_unique):\n",
    "    try:\n",
    "        dists = [nx.dijkstra_path_length(G, source=u, target=v, weight='length') for v in vs]       \n",
    "    return pd.Series(dists, index=vs)"
   ]
  },
  {
   "cell_type": "code",
   "execution_count": null,
   "id": "ae06ae8d",
   "metadata": {},
   "outputs": [],
   "source": []
  },
  {
   "cell_type": "code",
   "execution_count": null,
   "id": "cb3decf6",
   "metadata": {},
   "outputs": [],
   "source": []
  }
 ],
 "metadata": {
  "kernelspec": {
   "display_name": "Python 3 (ipykernel)",
   "language": "python",
   "name": "python3"
  },
  "language_info": {
   "codemirror_mode": {
    "name": "ipython",
    "version": 3
   },
   "file_extension": ".py",
   "mimetype": "text/x-python",
   "name": "python",
   "nbconvert_exporter": "python",
   "pygments_lexer": "ipython3",
   "version": "3.7.10"
  }
 },
 "nbformat": 4,
 "nbformat_minor": 5
}
